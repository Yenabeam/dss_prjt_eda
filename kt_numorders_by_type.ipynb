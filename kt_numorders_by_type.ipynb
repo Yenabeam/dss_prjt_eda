{
 "cells": [
  {
   "cell_type": "code",
   "execution_count": 4,
   "metadata": {},
   "outputs": [
    {
     "name": "stdout",
     "output_type": "stream",
     "text": [
      "['avgprice_by_day_region.csv', '배달앱_및_배달대행_이용현황_20201102204429.csv', 'housetype_by_region.csv', 'numorders_by_type_region.csv', 'stores_by_type_region.csv', 'numorders_by_time_region.csv']\n"
     ]
    }
   ],
   "source": [
    "import os\n",
    "from datetime import datetime\n",
    "import calendar\n",
    "import matplotlib.pyplot as plt\n",
    "import seaborn as sns\n",
    "import pandas as pd\n",
    "import numpy as np\n",
    "import warnings\n",
    "warnings.filterwarnings(\"ignore\")\n",
    "\n",
    "print(os.listdir(\"./raw_data/\"))"
   ]
  },
  {
   "cell_type": "markdown",
   "metadata": {},
   "source": [
    "### 데이터 불러오기"
   ]
  },
  {
   "cell_type": "code",
   "execution_count": 5,
   "metadata": {},
   "outputs": [],
   "source": [
    "avgprice_by_day = pd.read_csv(\"./raw_data/avgprice_by_day_region.csv\")\n",
    "order_by_type = pd.read_csv(\"./raw_data/numorders_by_type_region.csv\")\n",
    "order_by_time = pd.read_csv(\"./raw_data/numorders_by_time_region.csv\")"
   ]
  },
  {
   "cell_type": "markdown",
   "metadata": {},
   "source": [
    "#### 데이터프레임별 정보확인"
   ]
  },
  {
   "cell_type": "code",
   "execution_count": 6,
   "metadata": {},
   "outputs": [
    {
     "data": {
      "text/html": [
       "<div>\n",
       "<style scoped>\n",
       "    .dataframe tbody tr th:only-of-type {\n",
       "        vertical-align: middle;\n",
       "    }\n",
       "\n",
       "    .dataframe tbody tr th {\n",
       "        vertical-align: top;\n",
       "    }\n",
       "\n",
       "    .dataframe thead th {\n",
       "        text-align: right;\n",
       "    }\n",
       "</style>\n",
       "<table border=\"1\" class=\"dataframe\">\n",
       "  <thead>\n",
       "    <tr style=\"text-align: right;\">\n",
       "      <th></th>\n",
       "      <th>date</th>\n",
       "      <th>menu</th>\n",
       "      <th>reg_sido</th>\n",
       "      <th>reg_sigu</th>\n",
       "      <th>avgprice</th>\n",
       "    </tr>\n",
       "  </thead>\n",
       "  <tbody>\n",
       "    <tr>\n",
       "      <th>191303</th>\n",
       "      <td>2020-08-31</td>\n",
       "      <td>회</td>\n",
       "      <td>제주특별자치도</td>\n",
       "      <td>서귀포시</td>\n",
       "      <td>32800</td>\n",
       "    </tr>\n",
       "    <tr>\n",
       "      <th>191304</th>\n",
       "      <td>2020-08-31</td>\n",
       "      <td>회</td>\n",
       "      <td>충청남도</td>\n",
       "      <td>서산시</td>\n",
       "      <td>42000</td>\n",
       "    </tr>\n",
       "    <tr>\n",
       "      <th>191305</th>\n",
       "      <td>2020-08-31</td>\n",
       "      <td>회</td>\n",
       "      <td>충청북도</td>\n",
       "      <td>제천시</td>\n",
       "      <td>60857</td>\n",
       "    </tr>\n",
       "  </tbody>\n",
       "</table>\n",
       "</div>"
      ],
      "text/plain": [
       "             date  menu reg_sido reg_sigu  avgprice\n",
       "191303  2020-08-31    회  제주특별자치도     서귀포시     32800\n",
       "191304  2020-08-31    회     충청남도      서산시     42000\n",
       "191305  2020-08-31    회     충청북도      제천시     60857"
      ]
     },
     "execution_count": 6,
     "metadata": {},
     "output_type": "execute_result"
    }
   ],
   "source": [
    "avgprice_by_day.tail(3)"
   ]
  },
  {
   "cell_type": "code",
   "execution_count": 7,
   "metadata": {},
   "outputs": [
    {
     "name": "stdout",
     "output_type": "stream",
     "text": [
      "<class 'pandas.core.frame.DataFrame'>\n",
      "RangeIndex: 191306 entries, 0 to 191305\n",
      "Data columns (total 5 columns):\n",
      " #   Column    Non-Null Count   Dtype \n",
      "---  ------    --------------   ----- \n",
      " 0   date      191306 non-null  object\n",
      " 1   menu      191306 non-null  object\n",
      " 2   reg_sido  191306 non-null  object\n",
      " 3   reg_sigu  191306 non-null  object\n",
      " 4   avgprice  191306 non-null  int64 \n",
      "dtypes: int64(1), object(4)\n",
      "memory usage: 7.3+ MB\n"
     ]
    }
   ],
   "source": [
    "avgprice_by_day.info()"
   ]
  },
  {
   "cell_type": "code",
   "execution_count": 8,
   "metadata": {},
   "outputs": [
    {
     "data": {
      "text/html": [
       "<div>\n",
       "<style scoped>\n",
       "    .dataframe tbody tr th:only-of-type {\n",
       "        vertical-align: middle;\n",
       "    }\n",
       "\n",
       "    .dataframe tbody tr th {\n",
       "        vertical-align: top;\n",
       "    }\n",
       "\n",
       "    .dataframe thead th {\n",
       "        text-align: right;\n",
       "    }\n",
       "</style>\n",
       "<table border=\"1\" class=\"dataframe\">\n",
       "  <thead>\n",
       "    <tr style=\"text-align: right;\">\n",
       "      <th></th>\n",
       "      <th>date</th>\n",
       "      <th>time</th>\n",
       "      <th>reg_sido</th>\n",
       "      <th>reg_sigu</th>\n",
       "      <th>orders</th>\n",
       "    </tr>\n",
       "  </thead>\n",
       "  <tbody>\n",
       "    <tr>\n",
       "      <th>381065</th>\n",
       "      <td>2020-08-31</td>\n",
       "      <td>23</td>\n",
       "      <td>충청남도</td>\n",
       "      <td>서산시</td>\n",
       "      <td>22</td>\n",
       "    </tr>\n",
       "    <tr>\n",
       "      <th>381066</th>\n",
       "      <td>2020-08-31</td>\n",
       "      <td>23</td>\n",
       "      <td>충청북도</td>\n",
       "      <td>제천시</td>\n",
       "      <td>7</td>\n",
       "    </tr>\n",
       "    <tr>\n",
       "      <th>381067</th>\n",
       "      <td>2020-08-31</td>\n",
       "      <td>23</td>\n",
       "      <td>충청북도</td>\n",
       "      <td>충주시</td>\n",
       "      <td>1</td>\n",
       "    </tr>\n",
       "  </tbody>\n",
       "</table>\n",
       "</div>"
      ],
      "text/plain": [
       "              date  time reg_sido reg_sigu  orders\n",
       "381065  2020-08-31    23     충청남도      서산시      22\n",
       "381066  2020-08-31    23     충청북도      제천시       7\n",
       "381067  2020-08-31    23     충청북도      충주시       1"
      ]
     },
     "execution_count": 8,
     "metadata": {},
     "output_type": "execute_result"
    }
   ],
   "source": [
    "order_by_time.tail(3)"
   ]
  },
  {
   "cell_type": "code",
   "execution_count": 9,
   "metadata": {},
   "outputs": [
    {
     "name": "stdout",
     "output_type": "stream",
     "text": [
      "<class 'pandas.core.frame.DataFrame'>\n",
      "RangeIndex: 381068 entries, 0 to 381067\n",
      "Data columns (total 5 columns):\n",
      " #   Column    Non-Null Count   Dtype \n",
      "---  ------    --------------   ----- \n",
      " 0   date      381068 non-null  object\n",
      " 1   time      381068 non-null  int64 \n",
      " 2   reg_sido  381068 non-null  object\n",
      " 3   reg_sigu  381068 non-null  object\n",
      " 4   orders    381068 non-null  int64 \n",
      "dtypes: int64(2), object(3)\n",
      "memory usage: 14.5+ MB\n"
     ]
    }
   ],
   "source": [
    "order_by_time.info()"
   ]
  },
  {
   "cell_type": "code",
   "execution_count": 10,
   "metadata": {},
   "outputs": [
    {
     "data": {
      "text/html": [
       "<div>\n",
       "<style scoped>\n",
       "    .dataframe tbody tr th:only-of-type {\n",
       "        vertical-align: middle;\n",
       "    }\n",
       "\n",
       "    .dataframe tbody tr th {\n",
       "        vertical-align: top;\n",
       "    }\n",
       "\n",
       "    .dataframe thead th {\n",
       "        text-align: right;\n",
       "    }\n",
       "</style>\n",
       "<table border=\"1\" class=\"dataframe\">\n",
       "  <thead>\n",
       "    <tr style=\"text-align: right;\">\n",
       "      <th></th>\n",
       "      <th>date</th>\n",
       "      <th>menu</th>\n",
       "      <th>reg_sido</th>\n",
       "      <th>reg_sigu</th>\n",
       "      <th>cnt</th>\n",
       "    </tr>\n",
       "  </thead>\n",
       "  <tbody>\n",
       "    <tr>\n",
       "      <th>197187</th>\n",
       "      <td>2020-08-31</td>\n",
       "      <td>회</td>\n",
       "      <td>전라남도</td>\n",
       "      <td>나주시</td>\n",
       "      <td>2</td>\n",
       "    </tr>\n",
       "    <tr>\n",
       "      <th>197188</th>\n",
       "      <td>2020-08-31</td>\n",
       "      <td>회</td>\n",
       "      <td>전라북도</td>\n",
       "      <td>군산시</td>\n",
       "      <td>53</td>\n",
       "    </tr>\n",
       "    <tr>\n",
       "      <th>197189</th>\n",
       "      <td>2020-08-31</td>\n",
       "      <td>회</td>\n",
       "      <td>제주특별자치도</td>\n",
       "      <td>서귀포시</td>\n",
       "      <td>5</td>\n",
       "    </tr>\n",
       "    <tr>\n",
       "      <th>197190</th>\n",
       "      <td>2020-08-31</td>\n",
       "      <td>회</td>\n",
       "      <td>충청남도</td>\n",
       "      <td>서산시</td>\n",
       "      <td>2</td>\n",
       "    </tr>\n",
       "    <tr>\n",
       "      <th>197191</th>\n",
       "      <td>2020-08-31</td>\n",
       "      <td>회</td>\n",
       "      <td>충청북도</td>\n",
       "      <td>제천시</td>\n",
       "      <td>8</td>\n",
       "    </tr>\n",
       "  </tbody>\n",
       "</table>\n",
       "</div>"
      ],
      "text/plain": [
       "             date  menu reg_sido reg_sigu  cnt\n",
       "197187  2020-08-31    회     전라남도      나주시    2\n",
       "197188  2020-08-31    회     전라북도      군산시   53\n",
       "197189  2020-08-31    회  제주특별자치도     서귀포시    5\n",
       "197190  2020-08-31    회     충청남도      서산시    2\n",
       "197191  2020-08-31    회     충청북도      제천시    8"
      ]
     },
     "execution_count": 10,
     "metadata": {},
     "output_type": "execute_result"
    }
   ],
   "source": [
    "order_by_type.tail()"
   ]
  },
  {
   "cell_type": "code",
   "execution_count": 11,
   "metadata": {},
   "outputs": [
    {
     "name": "stdout",
     "output_type": "stream",
     "text": [
      "<class 'pandas.core.frame.DataFrame'>\n",
      "RangeIndex: 197192 entries, 0 to 197191\n",
      "Data columns (total 5 columns):\n",
      " #   Column    Non-Null Count   Dtype \n",
      "---  ------    --------------   ----- \n",
      " 0   date      197192 non-null  object\n",
      " 1   menu      197192 non-null  object\n",
      " 2   reg_sido  197192 non-null  object\n",
      " 3   reg_sigu  197192 non-null  object\n",
      " 4   cnt       197192 non-null  int64 \n",
      "dtypes: int64(1), object(4)\n",
      "memory usage: 7.5+ MB\n"
     ]
    }
   ],
   "source": [
    "order_by_type.info()"
   ]
  },
  {
   "cell_type": "markdown",
   "metadata": {},
   "source": [
    "#### 서울특별시 데이터만 가져오기"
   ]
  },
  {
   "cell_type": "code",
   "execution_count": 12,
   "metadata": {},
   "outputs": [
    {
     "data": {
      "text/html": [
       "<div>\n",
       "<style scoped>\n",
       "    .dataframe tbody tr th:only-of-type {\n",
       "        vertical-align: middle;\n",
       "    }\n",
       "\n",
       "    .dataframe tbody tr th {\n",
       "        vertical-align: top;\n",
       "    }\n",
       "\n",
       "    .dataframe thead th {\n",
       "        text-align: right;\n",
       "    }\n",
       "</style>\n",
       "<table border=\"1\" class=\"dataframe\">\n",
       "  <thead>\n",
       "    <tr style=\"text-align: right;\">\n",
       "      <th></th>\n",
       "      <th>date</th>\n",
       "      <th>menu</th>\n",
       "      <th>reg_sido</th>\n",
       "      <th>reg_sigu</th>\n",
       "      <th>avgprice</th>\n",
       "    </tr>\n",
       "  </thead>\n",
       "  <tbody>\n",
       "    <tr>\n",
       "      <th>33175</th>\n",
       "      <td>2020-08-26</td>\n",
       "      <td>분식</td>\n",
       "      <td>서울특별시</td>\n",
       "      <td>중구</td>\n",
       "      <td>16000</td>\n",
       "    </tr>\n",
       "    <tr>\n",
       "      <th>33176</th>\n",
       "      <td>2020-08-24</td>\n",
       "      <td>분식</td>\n",
       "      <td>서울특별시</td>\n",
       "      <td>중구</td>\n",
       "      <td>16400</td>\n",
       "    </tr>\n",
       "    <tr>\n",
       "      <th>33177</th>\n",
       "      <td>2020-08-29</td>\n",
       "      <td>분식</td>\n",
       "      <td>서울특별시</td>\n",
       "      <td>중구</td>\n",
       "      <td>21750</td>\n",
       "    </tr>\n",
       "  </tbody>\n",
       "</table>\n",
       "</div>"
      ],
      "text/plain": [
       "            date  menu reg_sido reg_sigu  avgprice\n",
       "33175  2020-08-26   분식    서울특별시       중구     16000\n",
       "33176  2020-08-24   분식    서울특별시       중구     16400\n",
       "33177  2020-08-29   분식    서울특별시       중구     21750"
      ]
     },
     "execution_count": 12,
     "metadata": {},
     "output_type": "execute_result"
    }
   ],
   "source": [
    "avgprice_by_day = avgprice_by_day[\n",
    "    avgprice_by_day[\"reg_sido\"] == \"서울특별시\"]\n",
    "avgprice_by_day.sort_values([\"reg_sigu\"], inplace = True)\n",
    "avgprice_by_day.reset_index(drop=True, inplace=True)\n",
    "avgprice_by_day.tail(3)"
   ]
  },
  {
   "cell_type": "code",
   "execution_count": 13,
   "metadata": {},
   "outputs": [
    {
     "data": {
      "text/html": [
       "<div>\n",
       "<style scoped>\n",
       "    .dataframe tbody tr th:only-of-type {\n",
       "        vertical-align: middle;\n",
       "    }\n",
       "\n",
       "    .dataframe tbody tr th {\n",
       "        vertical-align: top;\n",
       "    }\n",
       "\n",
       "    .dataframe thead th {\n",
       "        text-align: right;\n",
       "    }\n",
       "</style>\n",
       "<table border=\"1\" class=\"dataframe\">\n",
       "  <thead>\n",
       "    <tr style=\"text-align: right;\">\n",
       "      <th></th>\n",
       "      <th>date</th>\n",
       "      <th>time</th>\n",
       "      <th>reg_sido</th>\n",
       "      <th>reg_sigu</th>\n",
       "      <th>orders</th>\n",
       "    </tr>\n",
       "  </thead>\n",
       "  <tbody>\n",
       "    <tr>\n",
       "      <th>69730</th>\n",
       "      <td>2020-02-20</td>\n",
       "      <td>11</td>\n",
       "      <td>서울특별시</td>\n",
       "      <td>중랑구</td>\n",
       "      <td>1</td>\n",
       "    </tr>\n",
       "    <tr>\n",
       "      <th>69731</th>\n",
       "      <td>2020-02-19</td>\n",
       "      <td>16</td>\n",
       "      <td>서울특별시</td>\n",
       "      <td>중랑구</td>\n",
       "      <td>1</td>\n",
       "    </tr>\n",
       "    <tr>\n",
       "      <th>69732</th>\n",
       "      <td>2020-02-20</td>\n",
       "      <td>15</td>\n",
       "      <td>서울특별시</td>\n",
       "      <td>중랑구</td>\n",
       "      <td>3</td>\n",
       "    </tr>\n",
       "  </tbody>\n",
       "</table>\n",
       "</div>"
      ],
      "text/plain": [
       "             date  time reg_sido reg_sigu  orders\n",
       "69730  2020-02-20    11    서울특별시      중랑구       1\n",
       "69731  2020-02-19    16    서울특별시      중랑구       1\n",
       "69732  2020-02-20    15    서울특별시      중랑구       3"
      ]
     },
     "execution_count": 13,
     "metadata": {},
     "output_type": "execute_result"
    }
   ],
   "source": [
    "order_by_time = order_by_time[\n",
    "    order_by_time[\"reg_sido\"] == \"서울특별시\"]\n",
    "order_by_time.sort_values([\"reg_sigu\"], inplace = True)\n",
    "order_by_time.reset_index(drop = True, inplace =True)\n",
    "order_by_time.tail(3)"
   ]
  },
  {
   "cell_type": "code",
   "execution_count": 14,
   "metadata": {},
   "outputs": [
    {
     "data": {
      "text/html": [
       "<div>\n",
       "<style scoped>\n",
       "    .dataframe tbody tr th:only-of-type {\n",
       "        vertical-align: middle;\n",
       "    }\n",
       "\n",
       "    .dataframe tbody tr th {\n",
       "        vertical-align: top;\n",
       "    }\n",
       "\n",
       "    .dataframe thead th {\n",
       "        text-align: right;\n",
       "    }\n",
       "</style>\n",
       "<table border=\"1\" class=\"dataframe\">\n",
       "  <thead>\n",
       "    <tr style=\"text-align: right;\">\n",
       "      <th></th>\n",
       "      <th>date</th>\n",
       "      <th>menu</th>\n",
       "      <th>reg_sido</th>\n",
       "      <th>reg_sigu</th>\n",
       "      <th>cnt</th>\n",
       "    </tr>\n",
       "  </thead>\n",
       "  <tbody>\n",
       "    <tr>\n",
       "      <th>34415</th>\n",
       "      <td>2020-02-19</td>\n",
       "      <td>심부름</td>\n",
       "      <td>서울특별시</td>\n",
       "      <td>중랑구</td>\n",
       "      <td>4</td>\n",
       "    </tr>\n",
       "    <tr>\n",
       "      <th>34416</th>\n",
       "      <td>2020-02-20</td>\n",
       "      <td>심부름</td>\n",
       "      <td>서울특별시</td>\n",
       "      <td>중랑구</td>\n",
       "      <td>5</td>\n",
       "    </tr>\n",
       "    <tr>\n",
       "      <th>34417</th>\n",
       "      <td>2020-02-18</td>\n",
       "      <td>심부름</td>\n",
       "      <td>서울특별시</td>\n",
       "      <td>중랑구</td>\n",
       "      <td>1</td>\n",
       "    </tr>\n",
       "  </tbody>\n",
       "</table>\n",
       "</div>"
      ],
      "text/plain": [
       "            date  menu reg_sido reg_sigu  cnt\n",
       "34415  2020-02-19  심부름    서울특별시      중랑구    4\n",
       "34416  2020-02-20  심부름    서울특별시      중랑구    5\n",
       "34417  2020-02-18  심부름    서울특별시      중랑구    1"
      ]
     },
     "execution_count": 14,
     "metadata": {},
     "output_type": "execute_result"
    }
   ],
   "source": [
    "order_by_type = order_by_type[\n",
    "    order_by_type[\"reg_sido\"] == \"서울특별시\"]\n",
    "order_by_type.sort_values([\"reg_sigu\"], inplace= True)\n",
    "order_by_type.reset_index(drop = True, inplace= True)\n",
    "order_by_type.tail(3)"
   ]
  },
  {
   "cell_type": "code",
   "execution_count": 15,
   "metadata": {
    "scrolled": true
   },
   "outputs": [
    {
     "data": {
      "text/plain": [
       "0        2020-02-28\n",
       "1        2019-10-01\n",
       "2        2020-07-23\n",
       "3        2020-04-14\n",
       "4        2019-10-01\n",
       "            ...    \n",
       "34413    2020-08-25\n",
       "34414    2020-02-20\n",
       "34415    2020-02-19\n",
       "34416    2020-02-20\n",
       "34417    2020-02-18\n",
       "Name: date, Length: 34418, dtype: object"
      ]
     },
     "execution_count": 15,
     "metadata": {},
     "output_type": "execute_result"
    }
   ],
   "source": [
    "order_by_type = order_by_type.rename({\"date \":\"date\"}, axis = 1 )\n",
    "order_by_type.date"
   ]
  },
  {
   "cell_type": "code",
   "execution_count": 16,
   "metadata": {},
   "outputs": [],
   "source": [
    "from matplotlib import rc\n",
    "rc(\"font\", family = \"Arial Unicode MS\")"
   ]
  },
  {
   "cell_type": "code",
   "execution_count": 17,
   "metadata": {},
   "outputs": [
    {
     "name": "stdout",
     "output_type": "stream",
     "text": [
      "<class 'pandas.core.frame.DataFrame'>\n",
      "RangeIndex: 34418 entries, 0 to 34417\n",
      "Data columns (total 5 columns):\n",
      " #   Column    Non-Null Count  Dtype \n",
      "---  ------    --------------  ----- \n",
      " 0   date      34418 non-null  object\n",
      " 1   menu      34418 non-null  object\n",
      " 2   reg_sido  34418 non-null  object\n",
      " 3   reg_sigu  34418 non-null  object\n",
      " 4   cnt       34418 non-null  int64 \n",
      "dtypes: int64(1), object(4)\n",
      "memory usage: 1.3+ MB\n"
     ]
    }
   ],
   "source": [
    "# order_by_type 데이터 분석\n",
    "order_by_type.info()"
   ]
  },
  {
   "cell_type": "code",
   "execution_count": 18,
   "metadata": {},
   "outputs": [
    {
     "data": {
      "text/html": [
       "<div>\n",
       "<style scoped>\n",
       "    .dataframe tbody tr th:only-of-type {\n",
       "        vertical-align: middle;\n",
       "    }\n",
       "\n",
       "    .dataframe tbody tr th {\n",
       "        vertical-align: top;\n",
       "    }\n",
       "\n",
       "    .dataframe thead th {\n",
       "        text-align: right;\n",
       "    }\n",
       "</style>\n",
       "<table border=\"1\" class=\"dataframe\">\n",
       "  <thead>\n",
       "    <tr style=\"text-align: right;\">\n",
       "      <th></th>\n",
       "      <th>date</th>\n",
       "      <th>menu</th>\n",
       "      <th>reg_sido</th>\n",
       "      <th>reg_sigu</th>\n",
       "      <th>cnt</th>\n",
       "    </tr>\n",
       "  </thead>\n",
       "  <tbody>\n",
       "    <tr>\n",
       "      <th>0</th>\n",
       "      <td>2020-02-28</td>\n",
       "      <td>심부름</td>\n",
       "      <td>서울특별시</td>\n",
       "      <td>강남구</td>\n",
       "      <td>14</td>\n",
       "    </tr>\n",
       "    <tr>\n",
       "      <th>1</th>\n",
       "      <td>2019-10-01</td>\n",
       "      <td>치킨</td>\n",
       "      <td>서울특별시</td>\n",
       "      <td>강남구</td>\n",
       "      <td>125</td>\n",
       "    </tr>\n",
       "    <tr>\n",
       "      <th>2</th>\n",
       "      <td>2020-07-23</td>\n",
       "      <td>심부름</td>\n",
       "      <td>서울특별시</td>\n",
       "      <td>강남구</td>\n",
       "      <td>12</td>\n",
       "    </tr>\n",
       "  </tbody>\n",
       "</table>\n",
       "</div>"
      ],
      "text/plain": [
       "         date menu reg_sido reg_sigu  cnt\n",
       "0  2020-02-28  심부름    서울특별시      강남구   14\n",
       "1  2019-10-01   치킨    서울특별시      강남구  125\n",
       "2  2020-07-23  심부름    서울특별시      강남구   12"
      ]
     },
     "execution_count": 18,
     "metadata": {},
     "output_type": "execute_result"
    }
   ],
   "source": [
    "order_by_type.head(3)"
   ]
  },
  {
   "cell_type": "markdown",
   "metadata": {},
   "source": [
    "### order_by_type 데이터프레임 EDA"
   ]
  },
  {
   "cell_type": "code",
   "execution_count": 19,
   "metadata": {},
   "outputs": [
    {
     "data": {
      "text/html": [
       "<div>\n",
       "<style scoped>\n",
       "    .dataframe tbody tr th:only-of-type {\n",
       "        vertical-align: middle;\n",
       "    }\n",
       "\n",
       "    .dataframe tbody tr th {\n",
       "        vertical-align: top;\n",
       "    }\n",
       "\n",
       "    .dataframe thead th {\n",
       "        text-align: right;\n",
       "    }\n",
       "</style>\n",
       "<table border=\"1\" class=\"dataframe\">\n",
       "  <thead>\n",
       "    <tr style=\"text-align: right;\">\n",
       "      <th></th>\n",
       "      <th>date</th>\n",
       "      <th>menu</th>\n",
       "      <th>reg_sido</th>\n",
       "      <th>reg_sigu</th>\n",
       "      <th>cnt</th>\n",
       "      <th>year</th>\n",
       "      <th>month</th>\n",
       "      <th>year_month</th>\n",
       "      <th>day</th>\n",
       "      <th>weekday</th>\n",
       "    </tr>\n",
       "  </thead>\n",
       "  <tbody>\n",
       "    <tr>\n",
       "      <th>0</th>\n",
       "      <td>2020-02-28</td>\n",
       "      <td>심부름</td>\n",
       "      <td>서울특별시</td>\n",
       "      <td>강남구</td>\n",
       "      <td>14</td>\n",
       "      <td>2020</td>\n",
       "      <td>02</td>\n",
       "      <td>202002</td>\n",
       "      <td>28</td>\n",
       "      <td>Fri</td>\n",
       "    </tr>\n",
       "    <tr>\n",
       "      <th>1</th>\n",
       "      <td>2019-10-01</td>\n",
       "      <td>치킨</td>\n",
       "      <td>서울특별시</td>\n",
       "      <td>강남구</td>\n",
       "      <td>125</td>\n",
       "      <td>2019</td>\n",
       "      <td>10</td>\n",
       "      <td>201910</td>\n",
       "      <td>01</td>\n",
       "      <td>Tue</td>\n",
       "    </tr>\n",
       "    <tr>\n",
       "      <th>2</th>\n",
       "      <td>2020-07-23</td>\n",
       "      <td>심부름</td>\n",
       "      <td>서울특별시</td>\n",
       "      <td>강남구</td>\n",
       "      <td>12</td>\n",
       "      <td>2020</td>\n",
       "      <td>07</td>\n",
       "      <td>202007</td>\n",
       "      <td>23</td>\n",
       "      <td>Thu</td>\n",
       "    </tr>\n",
       "  </tbody>\n",
       "</table>\n",
       "</div>"
      ],
      "text/plain": [
       "         date menu reg_sido reg_sigu  cnt  year month year_month day weekday\n",
       "0  2020-02-28  심부름    서울특별시      강남구   14  2020    02     202002  28     Fri\n",
       "1  2019-10-01   치킨    서울특별시      강남구  125  2019    10     201910  01     Tue\n",
       "2  2020-07-23  심부름    서울특별시      강남구   12  2020    07     202007  23     Thu"
      ]
     },
     "execution_count": 19,
     "metadata": {},
     "output_type": "execute_result"
    }
   ],
   "source": [
    "# date 쪼개서 확인\n",
    "order_by_type['year']  = order_by_type.date.apply(lambda x :x.split(\"-\")[0])\n",
    "order_by_type['month']  = order_by_type.date.apply(lambda x :x.split(\"-\")[1])\n",
    "order_by_type['year_month']  = order_by_type.date.apply(lambda x :\"\".join(x.split(\"-\")[0:2]))\n",
    "order_by_type['day']  = order_by_type.date.apply(lambda x :x.split(\"-\")[2])\n",
    "\n",
    "# weekday는 calendar 패키지와 datetime 패키지를 활용한다.\n",
    "# calendar.day_name사용법: https://stackoverflow.com/questions/36341484/get-day-name-from-weekday-int\n",
    "# datetime.strptime 문서: https://docs.python.org/3/library/datetime.html#strftime-strptime-behavior\n",
    "\n",
    "order_by_type['weekday'] = order_by_type.date.apply(\n",
    "    lambda x : calendar.day_abbr[\n",
    "        datetime.strptime(x,'%Y-%m-%d').weekday()])\n",
    "\n",
    "order_by_type.head(3)"
   ]
  },
  {
   "cell_type": "code",
   "execution_count": 20,
   "metadata": {},
   "outputs": [],
   "source": [
    "# 휴무일 / 업무일 컬럼 추가\n",
    "def holiday(weekday):\n",
    "    return \"holiday\" if weekday in [\"Sat\", \"Sun\"] else \"workingday\"\n",
    "order_by_type[\"holiday\"] = order_by_type.weekday.apply(holiday)"
   ]
  },
  {
   "cell_type": "code",
   "execution_count": 131,
   "metadata": {},
   "outputs": [],
   "source": [
    "# 분리를 통해 추출된 속성은 문자열이므로 숫자열로 변환"
   ]
  },
  {
   "cell_type": "code",
   "execution_count": 141,
   "metadata": {},
   "outputs": [
    {
     "name": "stdout",
     "output_type": "stream",
     "text": [
      "<class 'pandas.core.frame.DataFrame'>\n",
      "RangeIndex: 34418 entries, 0 to 34417\n",
      "Data columns (total 10 columns):\n",
      " #   Column      Non-Null Count  Dtype \n",
      "---  ------      --------------  ----- \n",
      " 0   date        34418 non-null  object\n",
      " 1   menu        34418 non-null  object\n",
      " 2   reg_sido    34418 non-null  object\n",
      " 3   reg_sigu    34418 non-null  object\n",
      " 4   cnt         34418 non-null  int64 \n",
      " 5   year        34418 non-null  int64 \n",
      " 6   month       34418 non-null  int64 \n",
      " 7   day         34418 non-null  int64 \n",
      " 8   weekday     34418 non-null  object\n",
      " 9   year_month  34418 non-null  int64 \n",
      "dtypes: int64(5), object(5)\n",
      "memory usage: 2.6+ MB\n"
     ]
    }
   ],
   "source": [
    "order_by_type['year'] = pd.to_numeric(order_by_type.year, errors='coerce')\n",
    "order_by_type['month'] = pd.to_numeric(order_by_type.month, errors='coerce')\n",
    "order_by_type['year_month']  = pd.to_numeric(order_by_type.year_month, errors='coerce')\n",
    "order_by_type['day'] = pd.to_numeric(order_by_type.day, errors='coerce')\n",
    "order_by_type.info()"
   ]
  },
  {
   "cell_type": "code",
   "execution_count": 21,
   "metadata": {},
   "outputs": [],
   "source": [
    "# 연, 월, 일, 시간과 배달건수 관계"
   ]
  },
  {
   "cell_type": "code",
   "execution_count": 22,
   "metadata": {},
   "outputs": [
    {
     "data": {
      "image/png": "[encoded data removed]",
      "text/plain": [
       "<Figure size 864x720 with 6 Axes>"
      ]
     },
     "metadata": {
      "image/png": {
       "height": 593,
       "width": 722
      }
     },
     "output_type": "display_data"
    }
   ],
   "source": [
    "fig = plt.figure(figsize=[12, 10])\n",
    "ax1 = fig.add_subplot(3, 2, 1)\n",
    "ax1 = sns.barplot(x='year', y='cnt',\n",
    "                  data=order_by_type.groupby('year')['cnt'].\n",
    "                  mean().reset_index(),palette=\"muted\")\n",
    "\n",
    "ax2 = fig.add_subplot(3, 2, 2)\n",
    "ax2 = sns.barplot(x='month', y='cnt',\n",
    "                  data=order_by_type.groupby('month')['cnt'].\n",
    "                  mean().reset_index(), palette=\"muted\")\n",
    "\n",
    "ax3 = fig.add_subplot(3, 2, 3)\n",
    "ax3 = sns.barplot(x='year_month', y='cnt',\n",
    "                  data=order_by_type.groupby('year_month')['cnt'].\n",
    "                  mean().reset_index(), palette=\"muted\")\n",
    "\n",
    "ax4 = fig.add_subplot(3, 2, 4)\n",
    "ax4 = sns.barplot(x='day', y='cnt',\n",
    "                  data=order_by_type.groupby('day')['cnt'].mean().\n",
    "                  reset_index(),palette=\"muted\")\n",
    "\n",
    "ax5 = fig.add_subplot(3, 2, 5)\n",
    "ax5 = sns.barplot(x='time', y='orders',\n",
    "                  data=order_by_time.groupby('time')['orders'].mean().\n",
    "                  reset_index(), palette=\"muted\")\n",
    "\n",
    "ax6 = fig.add_subplot(3, 2, 6)\n",
    "ax6 = sns.barplot(x='holiday', y='cnt',\n",
    "                  data=order_by_type.groupby(\"holiday\")['cnt'].mean().\n",
    "                  reset_index(), palette=\"muted\")"
   ]
  },
  {
   "cell_type": "code",
   "execution_count": null,
   "metadata": {},
   "outputs": [],
   "source": []
  },
  {
   "cell_type": "markdown",
   "metadata": {},
   "source": [
    "### 앞으로 해볼 것\n",
    "- 1. 범주형 데이터(메뉴) 수치로 나타내기 \n",
    "- 2. 요일별 업종, 월별 업종\n",
    "- 3. 시간과 업무일 연관, 시간과 요일 그래프 그려보기\n"
   ]
  },
  {
   "cell_type": "markdown",
   "metadata": {},
   "source": [
    "### 추가적으로 해보고 싶은 데이터 (탐색 방법의 고민이 필요함)\n",
    "- 0. 시간과 메뉴 합칠 수 있는 방법 생각해보기\n",
    "- 1. 주거 형태별 주문량\n",
    "- 2. 날씨별 주문량 \n",
    "- 3. 코로나 거리두기 단계별 주문량\n",
    "- 4. 지역별 주문건수와 평균주문금액 "
   ]
  },
  {
   "cell_type": "markdown",
   "metadata": {},
   "source": [
    "### 회의 후 결정내용 \n",
    "\n",
    "- 한계점: 배달데이터 출처: kt, SKT 각각 제공-> 통신사별 배달건수로 모집단이 한정적\n",
    "- kt통신 제공 배달데이터 장점 \n",
    "    - 1. 최근데이터이므로 코로나 이슈에 대한 분석가능 \n",
    "    - 2. 평균배달금액으로 분석가능 \n",
    "- kt통신 제공 배달데이터 단점\n",
    "    - 1. 지역구별 배달건수가 부정확하고, 그 격차가 매우커서 실제 배달량 분석이 어려움 \n",
    "\n",
    "- SKT 제공데이터 장점\n",
    "    - 1. 실제 SKT 통신을 통한 통화량 건수이므로 모집단 정확\n",
    "- SKT 단점\n",
    "    - 최근 데이터가 2019년 8월까지임\n",
    "    \n",
    "- 결론\n",
    "    - 1. 보다 유의미한 인사이트 도출을 위하여 SKT 데이터 사용\n",
    "    - 2. 코로나 팬데믹 전후의 통계량 비교를 위한 케이스에서만 KT 데이터사용\n",
    "- 내가 할일\n",
    "    - SKT 데이터를 이용하여 연/월/일/시간/계절 등을 기준으로 EDA 진행해보기 !"
   ]
  },
  {
   "cell_type": "code",
   "execution_count": null,
   "metadata": {},
   "outputs": [],
   "source": []
  }
 ],
 "metadata": {
  "kernelspec": {
   "display_name": "Python 3",
   "language": "python",
   "name": "python3"
  },
  "language_info": {
   "codemirror_mode": {
    "name": "ipython",
    "version": 3
   },
   "file_extension": ".py",
   "mimetype": "text/x-python",
   "name": "python",
   "nbconvert_exporter": "python",
   "pygments_lexer": "ipython3",
   "version": "3.8.3"
  }
 },
 "nbformat": 4,
 "nbformat_minor": 4
}
